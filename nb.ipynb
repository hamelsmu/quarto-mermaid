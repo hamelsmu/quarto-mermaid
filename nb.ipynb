{
 "cells": [
  {
   "cell_type": "raw",
   "id": "1a3c5ceb-b9cc-43bc-aa60-bfe65ba1bf47",
   "metadata": {},
   "source": [
    "---\n",
    "title: jupyter-notebook\n",
    "jupyter: python3\n",
    "---"
   ]
  },
  {
   "cell_type": "markdown",
   "id": "f4753cb3-6f75-4f7b-8212-49d5a1b088f2",
   "metadata": {},
   "source": [
    "Hello this is a widget, but it doesn't show in a notebook"
   ]
  },
  {
   "cell_type": "code",
   "execution_count": null,
   "id": "3a329564-f654-44ef-bfed-789a565fe9c4",
   "metadata": {},
   "outputs": [
    {
     "data": {
      "application/vnd.jupyter.widget-view+json": {
       "model_id": "10cebd16f40a437596328a91009a12bd",
       "version_major": 2,
       "version_minor": 0
      },
      "text/plain": [
       "SelectMultiple(description='Fruits', index=(1,), options=('Apples', 'Oranges', 'Pears'), value=('Oranges',))"
      ]
     },
     "metadata": {},
     "output_type": "display_data"
    }
   ],
   "source": [
    "import ipywidgets as widgets\n",
    "widgets.SelectMultiple(\n",
    "    options=['Apples', 'Oranges', 'Pears'],\n",
    "    value=['Oranges'],\n",
    "    #rows=10,\n",
    "    description='Fruits',\n",
    "    disabled=False\n",
    ")"
   ]
  },
  {
   "cell_type": "code",
   "execution_count": null,
   "id": "ba622f91-521d-42d0-b002-2ff50bd057fa",
   "metadata": {},
   "outputs": [],
   "source": []
  }
 ],
 "metadata": {
  "kernelspec": {
   "display_name": "Python 3 (ipykernel)",
   "language": "python",
   "name": "python3"
  }
 },
 "nbformat": 4,
 "nbformat_minor": 5
}
